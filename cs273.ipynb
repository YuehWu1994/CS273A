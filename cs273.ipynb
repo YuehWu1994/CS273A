{
  "nbformat": 4,
  "nbformat_minor": 0,
  "metadata": {
    "colab": {
      "name": "cs273.ipynb",
      "version": "0.3.2",
      "provenance": [],
      "collapsed_sections": []
    },
    "kernelspec": {
      "name": "python3",
      "display_name": "Python 3"
    },
    "accelerator": "GPU"
  },
  "cells": [
    {
      "metadata": {
        "id": "PfT5B51qrpoB",
        "colab_type": "text"
      },
      "cell_type": "markdown",
      "source": [
        "#  CS 273A, Machine Learning, Final Project\n"
      ]
    },
    {
      "metadata": {
        "id": "BNQWyO6DsBOO",
        "colab_type": "code",
        "outputId": "605a9397-1241-4e7f-a659-c6ff7b1de023",
        "colab": {
          "base_uri": "https://localhost:8080/",
          "height": 136
        }
      },
      "cell_type": "code",
      "source": [
        "!git clone https://github.com/brian2213/CS273A"
      ],
      "execution_count": 1,
      "outputs": [
        {
          "output_type": "stream",
          "text": [
            "Cloning into 'CS273A'...\n",
            "remote: Enumerating objects: 110, done.\u001b[K\n",
            "remote: Counting objects:   0% (1/110)   \u001b[K\rremote: Counting objects:   1% (2/110)   \u001b[K\rremote: Counting objects:   2% (3/110)   \u001b[K\rremote: Counting objects:   3% (4/110)   \u001b[K\rremote: Counting objects:   4% (5/110)   \u001b[K\rremote: Counting objects:   5% (6/110)   \u001b[K\rremote: Counting objects:   6% (7/110)   \u001b[K\rremote: Counting objects:   7% (8/110)   \u001b[K\rremote: Counting objects:   8% (9/110)   \u001b[K\rremote: Counting objects:   9% (10/110)   \u001b[K\rremote: Counting objects:  10% (11/110)   \u001b[K\rremote: Counting objects:  11% (13/110)   \u001b[K\rremote: Counting objects:  12% (14/110)   \u001b[K\rremote: Counting objects:  13% (15/110)   \u001b[K\rremote: Counting objects:  14% (16/110)   \u001b[K\rremote: Counting objects:  15% (17/110)   \u001b[K\rremote: Counting objects:  16% (18/110)   \u001b[K\rremote: Counting objects:  17% (19/110)   \u001b[K\rremote: Counting objects:  18% (20/110)   \u001b[K\rremote: Counting objects:  19% (21/110)   \u001b[K\rremote: Counting objects:  20% (22/110)   \u001b[K\rremote: Counting objects:  21% (24/110)   \u001b[K\rremote: Counting objects:  22% (25/110)   \u001b[K\rremote: Counting objects:  23% (26/110)   \u001b[K\rremote: Counting objects:  24% (27/110)   \u001b[K\rremote: Counting objects:  25% (28/110)   \u001b[K\rremote: Counting objects:  26% (29/110)   \u001b[K\rremote: Counting objects:  27% (30/110)   \u001b[K\rremote: Counting objects:  28% (31/110)   \u001b[K\rremote: Counting objects:  29% (32/110)   \u001b[K\rremote: Counting objects:  30% (33/110)   \u001b[K\rremote: Counting objects:  31% (35/110)   \u001b[K\rremote: Counting objects:  32% (36/110)   \u001b[K\rremote: Counting objects:  33% (37/110)   \u001b[K\rremote: Counting objects:  34% (38/110)   \u001b[K\rremote: Counting objects:  35% (39/110)   \u001b[K\rremote: Counting objects:  36% (40/110)   \u001b[K\rremote: Counting objects:  37% (41/110)   \u001b[K\rremote: Counting objects:  38% (42/110)   \u001b[K\rremote: Counting objects:  39% (43/110)   \u001b[K\rremote: Counting objects:  40% (44/110)   \u001b[K\rremote: Counting objects:  41% (46/110)   \u001b[K\rremote: Counting objects:  42% (47/110)   \u001b[K\rremote: Counting objects:  43% (48/110)   \u001b[K\rremote: Counting objects:  44% (49/110)   \u001b[K\rremote: Counting objects:  45% (50/110)   \u001b[K\rremote: Counting objects:  46% (51/110)   \u001b[K\rremote: Counting objects:  47% (52/110)   \u001b[K\rremote: Counting objects:  48% (53/110)   \u001b[K\rremote: Counting objects:  49% (54/110)   \u001b[K\rremote: Counting objects:  50% (55/110)   \u001b[K\rremote: Counting objects:  51% (57/110)   \u001b[K\rremote: Counting objects:  52% (58/110)   \u001b[K\rremote: Counting objects:  53% (59/110)   \u001b[K\rremote: Counting objects:  54% (60/110)   \u001b[K\rremote: Counting objects:  55% (61/110)   \u001b[K\rremote: Counting objects:  56% (62/110)   \u001b[K\rremote: Counting objects:  57% (63/110)   \u001b[K\rremote: Counting objects:  58% (64/110)   \u001b[K\rremote: Counting objects:  59% (65/110)   \u001b[K\rremote: Counting objects:  60% (66/110)   \u001b[K\rremote: Counting objects:  61% (68/110)   \u001b[K\rremote: Counting objects:  62% (69/110)   \u001b[K\rremote: Counting objects:  63% (70/110)   \u001b[K\rremote: Counting objects:  64% (71/110)   \u001b[K\rremote: Counting objects:  65% (72/110)   \u001b[K\rremote: Counting objects:  66% (73/110)   \u001b[K\rremote: Counting objects:  67% (74/110)   \u001b[K\rremote: Counting objects:  68% (75/110)   \u001b[K\rremote: Counting objects:  69% (76/110)   \u001b[K\rremote: Counting objects:  70% (77/110)   \u001b[K\rremote: Counting objects:  71% (79/110)   \u001b[K\rremote: Counting objects:  72% (80/110)   \u001b[K\rremote: Counting objects:  73% (81/110)   \u001b[K\rremote: Counting objects:  74% (82/110)   \rremote: Counting objects:  75% (83/110)   \u001b[K\rremote: Counting objects:  76% (84/110)   \u001b[K\rremote: Counting objects:  77% (85/110)   \u001b[K\rremote: Counting objects:  78% (86/110)   \u001b[K\rremote: Counting objects:  79% (87/110)   \u001b[K\rremote: Counting objects:  80% (88/110)   \u001b[K\rremote: Counting objects:  81% (90/110)   \u001b[K\rremote: Counting objects:  82% (91/110)   \u001b[K\rremote: Counting objects:  83% (92/110)   \u001b[K\rremote: Counting objects:  84% (93/110)   \u001b[K\rremote: Counting objects:  85% (94/110)   \u001b[K\rremote: Counting objects:  86% (95/110)   \u001b[K\rremote: Counting objects:  87% (96/110)   \u001b[K\rremote: Counting objects:  88% (97/110)   \u001b[K\rremote: Counting objects:  89% (98/110)   \u001b[K\rremote: Counting objects:  90% (99/110)   \u001b[K\rremote: Counting objects:  91% (101/110)   \u001b[K\rremote: Counting objects:  92% (102/110)   \u001b[K\rremote: Counting objects:  93% (103/110)   \u001b[K\rremote: Counting objects:  94% (104/110)   \u001b[K\rremote: Counting objects:  95% (105/110)   \u001b[K\rremote: Counting objects:  96% (106/110)   \u001b[K\rremote: Counting objects:  97% (107/110)   \u001b[K\rremote: Counting objects:  98% (108/110)   \u001b[K\rremote: Counting objects:  99% (109/110)   \u001b[K\rremote: Counting objects: 100% (110/110)   \u001b[K\rremote: Counting objects: 100% (110/110), done.\u001b[K\n",
            "remote: Compressing objects:   1% (1/67)   \u001b[K\rremote: Compressing objects:   2% (2/67)   \u001b[K\rremote: Compressing objects:   4% (3/67)   \u001b[K\rremote: Compressing objects:   5% (4/67)   \u001b[K\rremote: Compressing objects:   7% (5/67)   \u001b[K\rremote: Compressing objects:   8% (6/67)   \u001b[K\rremote: Compressing objects:  10% (7/67)   \u001b[K\rremote: Compressing objects:  11% (8/67)   \u001b[K\rremote: Compressing objects:  13% (9/67)   \u001b[K\rremote: Compressing objects:  14% (10/67)   \u001b[K\rremote: Compressing objects:  16% (11/67)   \u001b[K\rremote: Compressing objects:  17% (12/67)   \u001b[K\rremote: Compressing objects:  19% (13/67)   \u001b[K\rremote: Compressing objects:  20% (14/67)   \u001b[K\rremote: Compressing objects:  22% (15/67)   \u001b[K\rremote: Compressing objects:  23% (16/67)   \u001b[K\rremote: Compressing objects:  25% (17/67)   \u001b[K\rremote: Compressing objects:  26% (18/67)   \u001b[K\rremote: Compressing objects:  28% (19/67)   \u001b[K\rremote: Compressing objects:  29% (20/67)   \u001b[K\rremote: Compressing objects:  31% (21/67)   \u001b[K\rremote: Compressing objects:  32% (22/67)   \u001b[K\rremote: Compressing objects:  34% (23/67)   \u001b[K\rremote: Compressing objects:  35% (24/67)   \u001b[K\rremote: Compressing objects:  37% (25/67)   \u001b[K\rremote: Compressing objects:  38% (26/67)   \u001b[K\rremote: Compressing objects:  40% (27/67)   \u001b[K\rremote: Compressing objects:  41% (28/67)   \u001b[K\rremote: Compressing objects:  43% (29/67)   \u001b[K\rremote: Compressing objects:  44% (30/67)   \u001b[K\rremote: Compressing objects:  46% (31/67)   \u001b[K\rremote: Compressing objects:  47% (32/67)   \u001b[K\rremote: Compressing objects:  49% (33/67)   \u001b[K\rremote: Compressing objects:  50% (34/67)   \u001b[K\rremote: Compressing objects:  52% (35/67)   \u001b[K\rremote: Compressing objects:  53% (36/67)   \u001b[K\rremote: Compressing objects:  55% (37/67)   \u001b[K\rremote: Compressing objects:  56% (38/67)   \u001b[K\rremote: Compressing objects:  58% (39/67)   \u001b[K\rremote: Compressing objects:  59% (40/67)   \u001b[K\rremote: Compressing objects:  61% (41/67)   \u001b[K\rremote: Compressing objects:  62% (42/67)   \u001b[K\rremote: Compressing objects:  64% (43/67)   \u001b[K\rremote: Compressing objects:  65% (44/67)   \u001b[K\rremote: Compressing objects:  67% (45/67)   \u001b[K\rremote: Compressing objects:  68% (46/67)   \u001b[K\rremote: Compressing objects:  70% (47/67)   \u001b[K\rremote: Compressing objects:  71% (48/67)   \u001b[K\rremote: Compressing objects:  73% (49/67)   \u001b[K\rremote: Compressing objects:  74% (50/67)   \u001b[K\rremote: Compressing objects:  76% (51/67)   \u001b[K\rremote: Compressing objects:  77% (52/67)   \u001b[K\rremote: Compressing objects:  79% (53/67)   \u001b[K\rremote: Compressing objects:  80% (54/67)   \u001b[K\rremote: Compressing objects:  82% (55/67)   \u001b[K\rremote: Compressing objects:  83% (56/67)   \u001b[K\rremote: Compressing objects:  85% (57/67)   \u001b[K\rremote: Compressing objects:  86% (58/67)   \u001b[K\rremote: Compressing objects:  88% (59/67)   \u001b[K\rremote: Compressing objects:  89% (60/67)   \u001b[K\rremote: Compressing objects:  91% (61/67)   \u001b[K\rremote: Compressing objects:  92% (62/67)   \u001b[K\rremote: Compressing objects:  94% (63/67)   \u001b[K\rremote: Compressing objects:  95% (64/67)   \u001b[K\rremote: Compressing objects:  97% (65/67)   \u001b[K\rremote: Compressing objects:  98% (66/67)   \u001b[K\rremote: Compressing objects: 100% (67/67)   \u001b[K\rremote: Compressing objects: 100% (67/67), done.\u001b[K\n",
            "Receiving objects:   0% (1/110)   \rReceiving objects:   1% (2/110)   \rReceiving objects:   2% (3/110)   \rReceiving objects:   3% (4/110)   \rReceiving objects:   4% (5/110)   \rReceiving objects:   5% (6/110)   \rReceiving objects:   6% (7/110)   \rReceiving objects:   7% (8/110)   \rReceiving objects:   8% (9/110)   \rReceiving objects:   9% (10/110)   \rReceiving objects:  10% (11/110)   \rReceiving objects:  11% (13/110)   \rReceiving objects:  12% (14/110)   \rReceiving objects:  13% (15/110)   \rReceiving objects:  14% (16/110)   \rReceiving objects:  15% (17/110)   \rReceiving objects:  16% (18/110)   \rReceiving objects:  17% (19/110)   \rReceiving objects:  18% (20/110)   \rReceiving objects:  19% (21/110)   \rReceiving objects:  20% (22/110)   \rReceiving objects:  21% (24/110)   \rReceiving objects:  22% (25/110)   \rReceiving objects:  23% (26/110)   \rReceiving objects:  24% (27/110)   \rReceiving objects:  25% (28/110)   \rReceiving objects:  26% (29/110)   \rReceiving objects:  27% (30/110)   \rReceiving objects:  28% (31/110)   \rReceiving objects:  29% (32/110)   \rReceiving objects:  30% (33/110)   \rReceiving objects:  31% (35/110)   \rReceiving objects:  32% (36/110)   \rReceiving objects:  33% (37/110)   \rReceiving objects:  34% (38/110)   \rReceiving objects:  35% (39/110)   \rReceiving objects:  36% (40/110)   \rReceiving objects:  37% (41/110)   \rReceiving objects:  38% (42/110)   \rReceiving objects:  39% (43/110)   \rReceiving objects:  40% (44/110)   \rReceiving objects:  41% (46/110)   \rReceiving objects:  42% (47/110)   \rReceiving objects:  43% (48/110)   \rReceiving objects:  44% (49/110)   \rReceiving objects:  45% (50/110)   \rReceiving objects:  46% (51/110)   \rReceiving objects:  47% (52/110)   \rReceiving objects:  48% (53/110)   \rReceiving objects:  49% (54/110)   \rReceiving objects:  50% (55/110)   \rReceiving objects:  51% (57/110)   \rReceiving objects:  52% (58/110)   \rReceiving objects:  53% (59/110)   \rReceiving objects:  54% (60/110)   \rReceiving objects:  55% (61/110)   \rReceiving objects:  56% (62/110)   \rReceiving objects:  57% (63/110)   \rReceiving objects:  58% (64/110)   \rReceiving objects:  59% (65/110)   \rReceiving objects:  60% (66/110)   \rReceiving objects:  61% (68/110)   \rReceiving objects:  62% (69/110)   \rReceiving objects:  63% (70/110)   \rReceiving objects:  64% (71/110)   \rReceiving objects:  65% (72/110)   \rReceiving objects:  66% (73/110)   \rReceiving objects:  67% (74/110)   \rReceiving objects:  68% (75/110)   \rremote: Total 110 (delta 57), reused 91 (delta 38), pack-reused 0\u001b[K\n",
            "Receiving objects:  69% (76/110)   \rReceiving objects:  70% (77/110)   \rReceiving objects:  71% (79/110)   \rReceiving objects:  72% (80/110)   \rReceiving objects:  73% (81/110)   \rReceiving objects:  74% (82/110)   \rReceiving objects:  75% (83/110)   \rReceiving objects:  76% (84/110)   \rReceiving objects:  77% (85/110)   \rReceiving objects:  78% (86/110)   \rReceiving objects:  79% (87/110)   \rReceiving objects:  80% (88/110)   \rReceiving objects:  81% (90/110)   \rReceiving objects:  82% (91/110)   \rReceiving objects:  83% (92/110)   \rReceiving objects:  84% (93/110)   \rReceiving objects:  85% (94/110)   \rReceiving objects:  86% (95/110)   \rReceiving objects:  87% (96/110)   \rReceiving objects:  88% (97/110)   \rReceiving objects:  89% (98/110)   \rReceiving objects:  90% (99/110)   \rReceiving objects:  91% (101/110)   \rReceiving objects:  92% (102/110)   \rReceiving objects:  93% (103/110)   \rReceiving objects:  94% (104/110)   \rReceiving objects:  95% (105/110)   \rReceiving objects:  96% (106/110)   \rReceiving objects:  97% (107/110)   \rReceiving objects:  98% (108/110)   \rReceiving objects:  99% (109/110)   \rReceiving objects: 100% (110/110)   \rReceiving objects: 100% (110/110), 291.19 KiB | 20.80 MiB/s, done.\n",
            "Resolving deltas:   0% (0/57)   \rResolving deltas:   8% (5/57)   \rResolving deltas:  36% (21/57)   \rResolving deltas:  38% (22/57)   \rResolving deltas:  45% (26/57)   \rResolving deltas:  59% (34/57)   \rResolving deltas:  68% (39/57)   \rResolving deltas:  71% (41/57)   \rResolving deltas:  73% (42/57)   \rResolving deltas:  78% (45/57)   \rResolving deltas:  85% (49/57)   \rResolving deltas:  87% (50/57)   \rResolving deltas:  94% (54/57)   \rResolving deltas:  96% (55/57)   \rResolving deltas: 100% (57/57)   \rResolving deltas: 100% (57/57), done.\n"
          ],
          "name": "stdout"
        }
      ]
    },
    {
      "metadata": {
        "id": "3H3NJtxe3BSz",
        "colab_type": "code",
        "outputId": "c0bdbb97-c54f-4d5e-b2dc-1c0da2e0fa16",
        "colab": {
          "base_uri": "https://localhost:8080/",
          "height": 34
        }
      },
      "cell_type": "code",
      "source": [
        "%cd CS273A/"
      ],
      "execution_count": 2,
      "outputs": [
        {
          "output_type": "stream",
          "text": [
            "/content/CS273A\n"
          ],
          "name": "stdout"
        }
      ]
    },
    {
      "metadata": {
        "id": "j_KaE95V3GkH",
        "colab_type": "code",
        "outputId": "86c22b07-9bcd-406e-beec-42473c93e6a8",
        "colab": {
          "base_uri": "https://localhost:8080/",
          "height": 3284
        }
      },
      "cell_type": "code",
      "source": [
        "!sh getRequirement.sh"
      ],
      "execution_count": 3,
      "outputs": [
        {
          "output_type": "stream",
          "text": [
            "Downloading and extracting CoLA...\n",
            "\tCompleted!\n",
            "Downloading and extracting SST...\n",
            "\tCompleted!\n",
            "Processing MRPC...\n",
            "\tCompleted!\n",
            "Downloading and extracting QQP...\n",
            "\tCompleted!\n",
            "Downloading and extracting STS...\n",
            "\tCompleted!\n",
            "Downloading and extracting MNLI...\n",
            "\tCompleted!\n",
            "Downloading and extracting SNLI...\n",
            "\tCompleted!\n",
            "Downloading and extracting QNLI...\n",
            "\tCompleted!\n",
            "Downloading and extracting RTE...\n",
            "\tCompleted!\n",
            "Downloading and extracting WNLI...\n",
            "\tCompleted!\n",
            "Downloading and extracting diagnostic...\n",
            "\tCompleted!\n",
            "--2018-12-03 22:27:25--  http://nlp.stanford.edu/data/glove.6B.zip\n",
            "Resolving nlp.stanford.edu (nlp.stanford.edu)... 171.64.67.140\n",
            "Connecting to nlp.stanford.edu (nlp.stanford.edu)|171.64.67.140|:80... connected.\n",
            "HTTP request sent, awaiting response... 302 Found\n",
            "Location: https://nlp.stanford.edu/data/glove.6B.zip [following]\n",
            "--2018-12-03 22:27:25--  https://nlp.stanford.edu/data/glove.6B.zip\n",
            "Connecting to nlp.stanford.edu (nlp.stanford.edu)|171.64.67.140|:443... connected.\n",
            "HTTP request sent, awaiting response... 200 OK\n",
            "Length: 862182613 (822M) [application/zip]\n",
            "Saving to: ‘glove.6B.zip’\n",
            "\n",
            "glove.6B.zip        100%[===================>] 822.24M  4.35MB/s    in 73s     \n",
            "\n",
            "2018-12-03 22:28:39 (11.2 MB/s) - ‘glove.6B.zip’ saved [862182613/862182613]\n",
            "\n",
            "Archive:  glove.6B.zip\n",
            "  inflating: glove.6B.50d.txt        \n",
            "  inflating: glove.6B.100d.txt       \n",
            "  inflating: glove.6B.200d.txt       \n",
            "  inflating: glove.6B.300d.txt       \n",
            "Collecting ipdb\n",
            "  Downloading https://files.pythonhosted.org/packages/80/fe/4564de08f174f3846364b3add8426d14cebee228f741c27e702b2877e85b/ipdb-0.11.tar.gz\n",
            "Requirement already satisfied: setuptools in /usr/local/lib/python3.6/dist-packages (from ipdb) (40.6.2)\n",
            "Requirement already satisfied: ipython>=5.0.0 in /usr/local/lib/python3.6/dist-packages (from ipdb) (5.5.0)\n",
            "Requirement already satisfied: simplegeneric>0.8 in /usr/local/lib/python3.6/dist-packages (from ipython>=5.0.0->ipdb) (0.8.1)\n",
            "Requirement already satisfied: pickleshare in /usr/local/lib/python3.6/dist-packages (from ipython>=5.0.0->ipdb) (0.7.5)\n",
            "Requirement already satisfied: decorator in /usr/local/lib/python3.6/dist-packages (from ipython>=5.0.0->ipdb) (4.3.0)\n",
            "Requirement already satisfied: pygments in /usr/local/lib/python3.6/dist-packages (from ipython>=5.0.0->ipdb) (2.1.3)\n",
            "Requirement already satisfied: traitlets>=4.2 in /usr/local/lib/python3.6/dist-packages (from ipython>=5.0.0->ipdb) (4.3.2)\n",
            "Requirement already satisfied: prompt-toolkit<2.0.0,>=1.0.4 in /usr/local/lib/python3.6/dist-packages (from ipython>=5.0.0->ipdb) (1.0.15)\n",
            "Requirement already satisfied: pexpect; sys_platform != \"win32\" in /usr/local/lib/python3.6/dist-packages (from ipython>=5.0.0->ipdb) (4.6.0)\n",
            "Requirement already satisfied: ipython-genutils in /usr/local/lib/python3.6/dist-packages (from traitlets>=4.2->ipython>=5.0.0->ipdb) (0.2.0)\n",
            "Requirement already satisfied: six in /usr/local/lib/python3.6/dist-packages (from traitlets>=4.2->ipython>=5.0.0->ipdb) (1.11.0)\n",
            "Requirement already satisfied: wcwidth in /usr/local/lib/python3.6/dist-packages (from prompt-toolkit<2.0.0,>=1.0.4->ipython>=5.0.0->ipdb) (0.1.7)\n",
            "Requirement already satisfied: ptyprocess>=0.5 in /usr/local/lib/python3.6/dist-packages (from pexpect; sys_platform != \"win32\"->ipython>=5.0.0->ipdb) (0.6.0)\n",
            "Building wheels for collected packages: ipdb\n",
            "  Running setup.py bdist_wheel for ipdb ... \u001b[?25l-\b \b\\\b \b|\b \b/\b \bdone\n",
            "\u001b[?25h  Stored in directory: /root/.cache/pip/wheels/a8/0e/e2/ffc7bedd430bfd12e9dba3c4dd88906bc42962face85bc4df7\n",
            "Successfully built ipdb\n",
            "Installing collected packages: ipdb\n",
            "Successfully installed ipdb-0.11\n",
            "Collecting torch==0.4\n",
            "\u001b[?25l  Downloading https://files.pythonhosted.org/packages/69/43/380514bd9663f1bf708abeb359b8b48d3fabb1c8e95bb3427a980a064c57/torch-0.4.0-cp36-cp36m-manylinux1_x86_64.whl (484.0MB)\n",
            "\u001b[K    100% |████████████████████████████████| 484.0MB 27kB/s \n",
            "tcmalloc: large alloc 1073750016 bytes == 0x5c1e0000 @  0x7f64e076d2a4 0x591a07 0x5b5d56 0x502e9a 0x506859 0x502209 0x502f3d 0x506859 0x504c28 0x502540 0x502f3d 0x506859 0x504c28 0x502540 0x502f3d 0x506859 0x504c28 0x502540 0x502f3d 0x507641 0x502209 0x502f3d 0x506859 0x504c28 0x502540 0x502f3d 0x507641 0x504c28 0x502540 0x502f3d 0x507641\n",
            "\u001b[?25hInstalling collected packages: torch\n",
            "Successfully installed torch-0.4.0\n",
            "Collecting allennlp==0.4\n",
            "\u001b[?25l  Downloading https://files.pythonhosted.org/packages/d7/9d/096821861893e7557333bdea3226711b2a69b00f69bce69a279453da7cbc/allennlp-0.4.0-py3-none-any.whl (488kB)\n",
            "\u001b[K    100% |████████████████████████████████| 491kB 13.6MB/s \n",
            "\u001b[?25hRequirement already satisfied: typing in /usr/local/lib/python3.6/dist-packages (from allennlp==0.4) (3.6.6)\n",
            "Collecting flask-cors==3.0.3 (from allennlp==0.4)\n",
            "  Downloading https://files.pythonhosted.org/packages/83/a7/c7243ffd096a491013956c9ee71e2ed0b7d14979fafe89986ca2d30fc6f7/Flask_Cors-3.0.3-py2.py3-none-any.whl\n",
            "Collecting overrides (from allennlp==0.4)\n",
            "  Downloading https://files.pythonhosted.org/packages/de/55/3100c6d14c1ed177492fcf8f07c4a7d2d6c996c0a7fc6a9a0a41308e7eec/overrides-1.9.tar.gz\n",
            "Collecting argparse (from allennlp==0.4)\n",
            "  Downloading https://files.pythonhosted.org/packages/f2/94/3af39d34be01a24a6e65433d19e107099374224905f1e0cc6bbe1fd22a2f/argparse-1.4.0-py2.py3-none-any.whl\n",
            "Collecting awscli>=1.11.91 (from allennlp==0.4)\n",
            "\u001b[?25l  Downloading https://files.pythonhosted.org/packages/aa/e5/ebd5896ad5ae353d23bea05ebb8edd3d49f1471784f6afa12a9cf11710de/awscli-1.16.67-py2.py3-none-any.whl (1.4MB)\n",
            "\u001b[K    100% |████████████████████████████████| 1.4MB 14.4MB/s \n",
            "\u001b[?25hCollecting flask==0.12.1 (from allennlp==0.4)\n",
            "\u001b[?25l  Downloading https://files.pythonhosted.org/packages/f4/43/fb2d5fb1d10e1d0402dd57836cf9a78b7f69c8b5f76a04b6e6113d0d7c5a/Flask-0.12.1-py2.py3-none-any.whl (82kB)\n",
            "\u001b[K    100% |████████████████████████████████| 92kB 27.2MB/s \n",
            "\u001b[?25hCollecting cffi==1.11.2 (from allennlp==0.4)\n",
            "\u001b[?25l  Downloading https://files.pythonhosted.org/packages/dc/1e/b383fde1f0a14b6ef5a60f71797c778ea1ef8bb34b726cb57061c0542c58/cffi-1.11.2-cp36-cp36m-manylinux1_x86_64.whl (419kB)\n",
            "\u001b[K    100% |████████████████████████████████| 430kB 25.9MB/s \n",
            "\u001b[?25hCollecting pytz==2017.3 (from allennlp==0.4)\n",
            "\u001b[?25l  Downloading https://files.pythonhosted.org/packages/a3/7f/e7d1acbd433b929168a4fb4182a2ff3c33653717195a26c1de099ad1ef29/pytz-2017.3-py2.py3-none-any.whl (511kB)\n",
            "\u001b[K    100% |████████████████████████████████| 512kB 22.3MB/s \n",
            "\u001b[?25hRequirement already satisfied: scipy in /usr/local/lib/python3.6/dist-packages (from allennlp==0.4) (1.1.0)\n",
            "Requirement already satisfied: h5py in /usr/local/lib/python3.6/dist-packages (from allennlp==0.4) (2.8.0)\n",
            "Requirement already satisfied: requests>=2.18 in /usr/local/lib/python3.6/dist-packages (from allennlp==0.4) (2.18.4)\n",
            "Collecting pyhocon==0.3.35 (from allennlp==0.4)\n",
            "\u001b[?25l  Downloading https://files.pythonhosted.org/packages/95/b9/72883593ce531e95ac8190e251ae6f5377eada69504248bf1aebfce4c5b4/pyhocon-0.3.35.tar.gz (94kB)\n",
            "\u001b[K    100% |████████████████████████████████| 102kB 28.0MB/s \n",
            "\u001b[?25hCollecting editdistance (from allennlp==0.4)\n",
            "\u001b[?25l  Downloading https://files.pythonhosted.org/packages/dc/34/381c67595831fc9daa30c9247cfb8116941fc7380b571a390bbff6da011e/editdistance-0.5.2-cp36-cp36m-manylinux1_x86_64.whl (173kB)\n",
            "\u001b[K    100% |████████████████████████████████| 174kB 26.4MB/s \n",
            "\u001b[?25hCollecting gevent==1.2.2 (from allennlp==0.4)\n",
            "\u001b[?25l  Downloading https://files.pythonhosted.org/packages/a3/af/438c505b62f630c203a6a6a5a3b6fec49524c0cda7ab6392be03999537ad/gevent-1.2.2-cp36-cp36m-manylinux1_x86_64.whl (1.7MB)\n",
            "\u001b[K    100% |████████████████████████████████| 1.7MB 15.9MB/s \n",
            "\u001b[?25hRequirement already satisfied: spacy<2.1,>=2.0 in /usr/local/lib/python3.6/dist-packages (from allennlp==0.4) (2.0.17)\n",
            "Requirement already satisfied: numpy in /usr/local/lib/python3.6/dist-packages (from allennlp==0.4) (1.14.6)\n",
            "Requirement already satisfied: tqdm>=4.19 in /usr/local/lib/python3.6/dist-packages (from allennlp==0.4) (4.28.1)\n",
            "Requirement already satisfied: nltk in /usr/local/lib/python3.6/dist-packages (from allennlp==0.4) (3.2.5)\n",
            "Collecting tensorboardX==1.0 (from allennlp==0.4)\n",
            "\u001b[?25l  Downloading https://files.pythonhosted.org/packages/fc/bf/b98db400dd0d8a500d4ab318c410701c5b6f2b9fdd220900569dbd0a8528/tensorboardX-1.0-py2.py3-none-any.whl (42kB)\n",
            "\u001b[K    100% |████████████████████████████████| 51kB 4.7MB/s \n",
            "\u001b[?25hCollecting psycopg2 (from allennlp==0.4)\n",
            "\u001b[?25l  Downloading https://files.pythonhosted.org/packages/bc/2a/61a8f9719bd6df5b421abd91740cb0595fc3c17b28eaf89fe4f144472ca6/psycopg2-2.7.6.1-cp36-cp36m-manylinux1_x86_64.whl (2.7MB)\n",
            "\u001b[K    100% |████████████████████████████████| 2.7MB 11.9MB/s \n",
            "\u001b[?25hRequirement already satisfied: scikit-learn in /usr/local/lib/python3.6/dist-packages (from allennlp==0.4) (0.19.2)\n",
            "Requirement already satisfied: Six in /usr/local/lib/python3.6/dist-packages (from flask-cors==3.0.3->allennlp==0.4) (1.11.0)\n",
            "Requirement already satisfied: PyYAML<=3.13,>=3.10 in /usr/local/lib/python3.6/dist-packages (from awscli>=1.11.91->allennlp==0.4) (3.13)\n",
            "Collecting rsa<=3.5.0,>=3.1.2 (from awscli>=1.11.91->allennlp==0.4)\n",
            "\u001b[?25l  Downloading https://files.pythonhosted.org/packages/e1/ae/baedc9cb175552e95f3395c43055a6a5e125ae4d48a1d7a924baca83e92e/rsa-3.4.2-py2.py3-none-any.whl (46kB)\n",
            "\u001b[K    100% |████████████████████████████████| 51kB 17.4MB/s \n",
            "\u001b[?25hCollecting colorama<=0.3.9,>=0.2.5 (from awscli>=1.11.91->allennlp==0.4)\n",
            "  Downloading https://files.pythonhosted.org/packages/db/c8/7dcf9dbcb22429512708fe3a547f8b6101c0d02137acbd892505aee57adf/colorama-0.3.9-py2.py3-none-any.whl\n",
            "Collecting docutils>=0.10 (from awscli>=1.11.91->allennlp==0.4)\n",
            "\u001b[?25l  Downloading https://files.pythonhosted.org/packages/36/fa/08e9e6e0e3cbd1d362c3bbee8d01d0aedb2155c4ac112b19ef3cae8eed8d/docutils-0.14-py3-none-any.whl (543kB)\n",
            "\u001b[K    100% |████████████████████████████████| 552kB 23.1MB/s \n",
            "\u001b[?25hCollecting botocore==1.12.57 (from awscli>=1.11.91->allennlp==0.4)\n",
            "\u001b[?25l  Downloading https://files.pythonhosted.org/packages/f1/37/eb8f5a76e1cb16ecabb7c92f7504c37030c8b727d550021b2bb34dc2a082/botocore-1.12.57-py2.py3-none-any.whl (5.1MB)\n",
            "\u001b[K    100% |████████████████████████████████| 5.1MB 6.7MB/s \n",
            "\u001b[?25hCollecting s3transfer<0.2.0,>=0.1.12 (from awscli>=1.11.91->allennlp==0.4)\n",
            "\u001b[?25l  Downloading https://files.pythonhosted.org/packages/d7/14/2a0004d487464d120c9fb85313a75cd3d71a7506955be458eebfe19a6b1d/s3transfer-0.1.13-py2.py3-none-any.whl (59kB)\n",
            "\u001b[K    100% |████████████████████████████████| 61kB 23.4MB/s \n",
            "\u001b[?25hRequirement already satisfied: Jinja2>=2.4 in /usr/local/lib/python3.6/dist-packages (from flask==0.12.1->allennlp==0.4) (2.10)\n",
            "Collecting click>=2.0 (from flask==0.12.1->allennlp==0.4)\n",
            "\u001b[?25l  Downloading https://files.pythonhosted.org/packages/fa/37/45185cb5abbc30d7257104c434fe0b07e5a195a6847506c074527aa599ec/Click-7.0-py2.py3-none-any.whl (81kB)\n",
            "\u001b[K    100% |████████████████████████████████| 81kB 25.4MB/s \n",
            "\u001b[?25hCollecting itsdangerous>=0.21 (from flask==0.12.1->allennlp==0.4)\n",
            "  Downloading https://files.pythonhosted.org/packages/76/ae/44b03b253d6fade317f32c24d100b3b35c2239807046a4c953c7b89fa49e/itsdangerous-1.1.0-py2.py3-none-any.whl\n",
            "Requirement already satisfied: Werkzeug>=0.7 in /usr/local/lib/python3.6/dist-packages (from flask==0.12.1->allennlp==0.4) (0.14.1)\n",
            "Collecting pycparser (from cffi==1.11.2->allennlp==0.4)\n",
            "\u001b[?25l  Downloading https://files.pythonhosted.org/packages/68/9e/49196946aee219aead1290e00d1e7fdeab8567783e83e1b9ab5585e6206a/pycparser-2.19.tar.gz (158kB)\n",
            "\u001b[K    100% |████████████████████████████████| 163kB 24.8MB/s \n",
            "\u001b[?25hRequirement already satisfied: urllib3<1.23,>=1.21.1 in /usr/local/lib/python3.6/dist-packages (from requests>=2.18->allennlp==0.4) (1.22)\n",
            "Requirement already satisfied: chardet<3.1.0,>=3.0.2 in /usr/local/lib/python3.6/dist-packages (from requests>=2.18->allennlp==0.4) (3.0.4)\n",
            "Requirement already satisfied: idna<2.7,>=2.5 in /usr/local/lib/python3.6/dist-packages (from requests>=2.18->allennlp==0.4) (2.6)\n",
            "Requirement already satisfied: certifi>=2017.4.17 in /usr/local/lib/python3.6/dist-packages (from requests>=2.18->allennlp==0.4) (2018.10.15)\n",
            "Requirement already satisfied: pyparsing>=2.0.3 in /usr/local/lib/python3.6/dist-packages (from pyhocon==0.3.35->allennlp==0.4) (2.3.0)\n",
            "Collecting greenlet>=0.4.10 (from gevent==1.2.2->allennlp==0.4)\n",
            "\u001b[?25l  Downloading https://files.pythonhosted.org/packages/bf/45/142141aa47e01a5779f0fa5a53b81f8379ce8f2b1cd13df7d2f1d751ae42/greenlet-0.4.15-cp36-cp36m-manylinux1_x86_64.whl (41kB)\n",
            "\u001b[K    100% |████████████████████████████████| 51kB 18.1MB/s \n",
            "\u001b[?25hRequirement already satisfied: msgpack-numpy<0.4.4 in /usr/local/lib/python3.6/dist-packages (from spacy<2.1,>=2.0->allennlp==0.4) (0.4.3.2)\n",
            "Requirement already satisfied: murmurhash<1.1.0,>=0.28.0 in /usr/local/lib/python3.6/dist-packages (from spacy<2.1,>=2.0->allennlp==0.4) (1.0.1)\n",
            "Requirement already satisfied: cymem<2.1.0,>=2.0.2 in /usr/local/lib/python3.6/dist-packages (from spacy<2.1,>=2.0->allennlp==0.4) (2.0.2)\n",
            "Requirement already satisfied: preshed<2.1.0,>=2.0.1 in /usr/local/lib/python3.6/dist-packages (from spacy<2.1,>=2.0->allennlp==0.4) (2.0.1)\n",
            "Requirement already satisfied: thinc<6.13.0,>=6.12.0 in /usr/local/lib/python3.6/dist-packages (from spacy<2.1,>=2.0->allennlp==0.4) (6.12.0)\n",
            "Requirement already satisfied: plac<1.0.0,>=0.9.6 in /usr/local/lib/python3.6/dist-packages (from spacy<2.1,>=2.0->allennlp==0.4) (0.9.6)\n",
            "Requirement already satisfied: ujson>=1.35 in /usr/local/lib/python3.6/dist-packages (from spacy<2.1,>=2.0->allennlp==0.4) (1.35)\n",
            "Requirement already satisfied: dill<0.3,>=0.2 in /usr/local/lib/python3.6/dist-packages (from spacy<2.1,>=2.0->allennlp==0.4) (0.2.8.2)\n",
            "Requirement already satisfied: regex<2017.12.1,>=2017.4.5 in /usr/local/lib/python3.6/dist-packages (from spacy<2.1,>=2.0->allennlp==0.4) (2017.11.9)\n",
            "Requirement already satisfied: protobuf>=0.3.2 in /usr/local/lib/python3.6/dist-packages (from tensorboardX==1.0->allennlp==0.4) (3.6.1)\n",
            "Requirement already satisfied: pyasn1>=0.1.3 in /usr/local/lib/python3.6/dist-packages (from rsa<=3.5.0,>=3.1.2->awscli>=1.11.91->allennlp==0.4) (0.4.4)\n",
            "Collecting jmespath<1.0.0,>=0.7.1 (from botocore==1.12.57->awscli>=1.11.91->allennlp==0.4)\n",
            "  Downloading https://files.pythonhosted.org/packages/b7/31/05c8d001f7f87f0f07289a5fc0fc3832e9a57f2dbd4d3b0fee70e0d51365/jmespath-0.9.3-py2.py3-none-any.whl\n",
            "Requirement already satisfied: python-dateutil<3.0.0,>=2.1; python_version >= \"2.7\" in /usr/local/lib/python3.6/dist-packages (from botocore==1.12.57->awscli>=1.11.91->allennlp==0.4) (2.5.3)\n",
            "Requirement already satisfied: MarkupSafe>=0.23 in /usr/local/lib/python3.6/dist-packages (from Jinja2>=2.4->flask==0.12.1->allennlp==0.4) (1.1.0)\n",
            "Requirement already satisfied: msgpack>=0.3.0 in /usr/local/lib/python3.6/dist-packages (from msgpack-numpy<0.4.4->spacy<2.1,>=2.0->allennlp==0.4) (0.5.6)\n",
            "Requirement already satisfied: wrapt<1.11.0,>=1.10.0 in /usr/local/lib/python3.6/dist-packages (from thinc<6.13.0,>=6.12.0->spacy<2.1,>=2.0->allennlp==0.4) (1.10.11)\n",
            "Requirement already satisfied: cytoolz<0.10,>=0.9.0 in /usr/local/lib/python3.6/dist-packages (from thinc<6.13.0,>=6.12.0->spacy<2.1,>=2.0->allennlp==0.4) (0.9.0.1)\n",
            "Requirement already satisfied: setuptools in /usr/local/lib/python3.6/dist-packages (from protobuf>=0.3.2->tensorboardX==1.0->allennlp==0.4) (40.6.2)\n",
            "Requirement already satisfied: toolz>=0.8.0 in /usr/local/lib/python3.6/dist-packages (from cytoolz<0.10,>=0.9.0->thinc<6.13.0,>=6.12.0->spacy<2.1,>=2.0->allennlp==0.4) (0.9.0)\n",
            "Building wheels for collected packages: overrides, pyhocon, pycparser\n",
            "  Running setup.py bdist_wheel for overrides ... \u001b[?25l-\b \bdone\n",
            "\u001b[?25h  Stored in directory: /root/.cache/pip/wheels/8d/52/86/e5a83b1797e7d263b458d2334edd2704c78508b3eea9323718\n",
            "  Running setup.py bdist_wheel for pyhocon ... \u001b[?25l-\b \bdone\n",
            "\u001b[?25h  Stored in directory: /root/.cache/pip/wheels/97/ea/cd/d2b70c1cfa9e6b1242709de5a64fd46be8982bc42be56d9390\n",
            "  Running setup.py bdist_wheel for pycparser ... \u001b[?25l-\b \b\\\b \b|\b \bdone\n",
            "\u001b[?25h  Stored in directory: /root/.cache/pip/wheels/f2/9a/90/de94f8556265ddc9d9c8b271b0f63e57b26fb1d67a45564511\n",
            "Successfully built overrides pyhocon pycparser\n",
            "Installing collected packages: click, itsdangerous, flask, flask-cors, overrides, argparse, rsa, colorama, docutils, jmespath, botocore, s3transfer, awscli, pycparser, cffi, pytz, pyhocon, editdistance, greenlet, gevent, tensorboardX, psycopg2, allennlp\n",
            "  Found existing installation: rsa 4.0\n",
            "    Uninstalling rsa-4.0:\n",
            "      Successfully uninstalled rsa-4.0\n",
            "  Found existing installation: pytz 2018.7\n",
            "    Uninstalling pytz-2018.7:\n",
            "      Successfully uninstalled pytz-2018.7\n",
            "Successfully installed allennlp-0.4.0 argparse-1.4.0 awscli-1.16.67 botocore-1.12.57 cffi-1.11.2 click-7.0 colorama-0.3.9 docutils-0.14 editdistance-0.5.2 flask-0.12.1 flask-cors-3.0.3 gevent-1.2.2 greenlet-0.4.15 itsdangerous-1.1.0 jmespath-0.9.3 overrides-1.9 psycopg2-2.7.6.1 pycparser-2.19 pyhocon-0.3.35 pytz-2017.3 rsa-3.4.2 s3transfer-0.1.13 tensorboardX-1.0\n",
            "Requirement already satisfied: tensorboardX in /usr/local/lib/python3.6/dist-packages (1.0)\n",
            "Requirement already satisfied: protobuf>=0.3.2 in /usr/local/lib/python3.6/dist-packages (from tensorboardX) (3.6.1)\n",
            "Requirement already satisfied: numpy in /usr/local/lib/python3.6/dist-packages (from tensorboardX) (1.14.6)\n",
            "Requirement already satisfied: six in /usr/local/lib/python3.6/dist-packages (from tensorboardX) (1.11.0)\n",
            "Requirement already satisfied: setuptools in /usr/local/lib/python3.6/dist-packages (from protobuf>=0.3.2->tensorboardX) (40.6.2)\n",
            "[nltk_data] Downloading package punkt to /root/nltk_data...\n",
            "[nltk_data]   Unzipping tokenizers/punkt.zip.\n"
          ],
          "name": "stdout"
        }
      ]
    },
    {
      "metadata": {
        "id": "QPoU76MB3ImN",
        "colab_type": "code",
        "outputId": "2bb3ad8c-6db3-4e68-933b-be7d95d83152",
        "colab": {
          "base_uri": "https://localhost:8080/",
          "height": 34
        }
      },
      "cell_type": "code",
      "source": [
        "%cd src/"
      ],
      "execution_count": 4,
      "outputs": [
        {
          "output_type": "stream",
          "text": [
            "/content/CS273A/src\n"
          ],
          "name": "stdout"
        }
      ]
    },
    {
      "metadata": {
        "id": "PzvpfpSWLqm_",
        "colab_type": "code",
        "colab": {
          "base_uri": "https://localhost:8080/",
          "height": 938
        },
        "outputId": "ee9518f9-f727-4ad9-c1c6-e24f4952ca2e"
      },
      "cell_type": "code",
      "source": [
        "!sh run_stuff_onColab.sh"
      ],
      "execution_count": 9,
      "outputs": [
        {
          "output_type": "stream",
          "text": [
            "[TerminalIPythonApp] WARNING | GUI event loop or pylab initialization failed\n",
            "\u001b]0;IPython: CS273A/src\u0007\u001b[0;31m\u001b[0m\n",
            "\u001b[0;31mUnknownBackend\u001b[0mTraceback (most recent call last)\n",
            "\u001b[0;32m/usr/local/lib/python3.6/dist-packages/IPython/core/interactiveshell.py\u001b[0m in \u001b[0;36menable_matplotlib\u001b[0;34m(self, gui)\u001b[0m\n",
            "\u001b[1;32m   2953\u001b[0m         \u001b[0;31m# Now we must activate the gui pylab wants to use, and fix %run to take\u001b[0m\u001b[0;34m\u001b[0m\u001b[0;34m\u001b[0m\u001b[0;34m\u001b[0m\u001b[0m\n",
            "\u001b[1;32m   2954\u001b[0m         \u001b[0;31m# plot updates into account\u001b[0m\u001b[0;34m\u001b[0m\u001b[0;34m\u001b[0m\u001b[0;34m\u001b[0m\u001b[0m\n",
            "\u001b[0;32m-> 2955\u001b[0;31m         \u001b[0mself\u001b[0m\u001b[0;34m.\u001b[0m\u001b[0menable_gui\u001b[0m\u001b[0;34m(\u001b[0m\u001b[0mgui\u001b[0m\u001b[0;34m)\u001b[0m\u001b[0;34m\u001b[0m\u001b[0;34m\u001b[0m\u001b[0m\n",
            "\u001b[0m\u001b[1;32m   2956\u001b[0m         \u001b[0mself\u001b[0m\u001b[0;34m.\u001b[0m\u001b[0mmagics_manager\u001b[0m\u001b[0;34m.\u001b[0m\u001b[0mregistry\u001b[0m\u001b[0;34m[\u001b[0m\u001b[0;34m'ExecutionMagics'\u001b[0m\u001b[0;34m]\u001b[0m\u001b[0;34m.\u001b[0m\u001b[0mdefault_runner\u001b[0m \u001b[0;34m=\u001b[0m\u001b[0;31m \u001b[0m\u001b[0;31m\\\u001b[0m\u001b[0;34m\u001b[0m\u001b[0;34m\u001b[0m\u001b[0m\n",
            "\u001b[1;32m   2957\u001b[0m             \u001b[0mpt\u001b[0m\u001b[0;34m.\u001b[0m\u001b[0mmpl_runner\u001b[0m\u001b[0;34m(\u001b[0m\u001b[0mself\u001b[0m\u001b[0;34m.\u001b[0m\u001b[0msafe_execfile\u001b[0m\u001b[0;34m)\u001b[0m\u001b[0;34m\u001b[0m\u001b[0;34m\u001b[0m\u001b[0m\n",
            "\n",
            "\u001b[0;32m/usr/local/lib/python3.6/dist-packages/IPython/terminal/interactiveshell.py\u001b[0m in \u001b[0;36menable_gui\u001b[0;34m(self, gui)\u001b[0m\n",
            "\u001b[1;32m    512\u001b[0m         \u001b[0;32mif\u001b[0m \u001b[0mgui\u001b[0m\u001b[0;34m:\u001b[0m\u001b[0;34m\u001b[0m\u001b[0;34m\u001b[0m\u001b[0m\n",
            "\u001b[1;32m    513\u001b[0m             \u001b[0mself\u001b[0m\u001b[0;34m.\u001b[0m\u001b[0mactive_eventloop\u001b[0m\u001b[0;34m,\u001b[0m \u001b[0mself\u001b[0m\u001b[0;34m.\u001b[0m\u001b[0m_inputhook\u001b[0m \u001b[0;34m=\u001b[0m\u001b[0;31m\\\u001b[0m\u001b[0;34m\u001b[0m\u001b[0;34m\u001b[0m\u001b[0m\n",
            "\u001b[0;32m--> 514\u001b[0;31m                 \u001b[0mget_inputhook_name_and_func\u001b[0m\u001b[0;34m(\u001b[0m\u001b[0mgui\u001b[0m\u001b[0;34m)\u001b[0m\u001b[0;34m\u001b[0m\u001b[0;34m\u001b[0m\u001b[0m\n",
            "\u001b[0m\u001b[1;32m    515\u001b[0m         \u001b[0;32melse\u001b[0m\u001b[0;34m:\u001b[0m\u001b[0;34m\u001b[0m\u001b[0;34m\u001b[0m\u001b[0m\n",
            "\u001b[1;32m    516\u001b[0m             \u001b[0mself\u001b[0m\u001b[0;34m.\u001b[0m\u001b[0mactive_eventloop\u001b[0m \u001b[0;34m=\u001b[0m \u001b[0mself\u001b[0m\u001b[0;34m.\u001b[0m\u001b[0m_inputhook\u001b[0m \u001b[0;34m=\u001b[0m \u001b[0;32mNone\u001b[0m\u001b[0;34m\u001b[0m\u001b[0;34m\u001b[0m\u001b[0m\n",
            "\n",
            "\u001b[0;32m/usr/local/lib/python3.6/dist-packages/IPython/terminal/pt_inputhooks/__init__.py\u001b[0m in \u001b[0;36mget_inputhook_name_and_func\u001b[0;34m(gui)\u001b[0m\n",
            "\u001b[1;32m     36\u001b[0m \u001b[0;34m\u001b[0m\u001b[0m\n",
            "\u001b[1;32m     37\u001b[0m     \u001b[0;32mif\u001b[0m \u001b[0mgui\u001b[0m \u001b[0;32mnot\u001b[0m \u001b[0;32min\u001b[0m \u001b[0mbackends\u001b[0m\u001b[0;34m:\u001b[0m\u001b[0;34m\u001b[0m\u001b[0;34m\u001b[0m\u001b[0m\n",
            "\u001b[0;32m---> 38\u001b[0;31m         \u001b[0;32mraise\u001b[0m \u001b[0mUnknownBackend\u001b[0m\u001b[0;34m(\u001b[0m\u001b[0mgui\u001b[0m\u001b[0;34m)\u001b[0m\u001b[0;34m\u001b[0m\u001b[0;34m\u001b[0m\u001b[0m\n",
            "\u001b[0m\u001b[1;32m     39\u001b[0m \u001b[0;34m\u001b[0m\u001b[0m\n",
            "\u001b[1;32m     40\u001b[0m     \u001b[0;32mif\u001b[0m \u001b[0mgui\u001b[0m \u001b[0;32min\u001b[0m \u001b[0maliases\u001b[0m\u001b[0;34m:\u001b[0m\u001b[0;34m\u001b[0m\u001b[0;34m\u001b[0m\u001b[0m\n",
            "\n",
            "\u001b[0;31mUnknownBackend\u001b[0m: No event loop integration for 'inline'. Supported event loops are: qt, qt4, qt5, gtk, gtk2, gtk3, tk, wx, pyglet, glut, osx\n",
            "/usr/local/lib/python3.6/dist-packages/IPython/html.py:14: ShimWarning: The `IPython.html` package has been deprecated since IPython 4.0. You should import from `notebook` instead. `IPython.html.widgets` has moved to `ipywidgets`.\n",
            "  \"`IPython.html.widgets` has moved to `ipywidgets`.\", ShimWarning)\n",
            "12/03 10:36:06 PM: Namespace(batch_size=64, bpp_base=10, bpp_method='percent_tr', classifier='mlp', classifier_dropout=0.0, classifier_hid_dim=512, cove=0, cuda=0, d_hid=512, d_word=50, deep_elmo=0, dropout=0.2, dropout_embs=0.2, elmo=0, elmo_no_glove=0, eval_tasks='none', exp_dir='EXP_DIR', glove=1, load_epoch=-1, load_model=0, load_preproc=1, load_tasks=1, log_file='log.log', lr=0.1, lr_decay_factor=0.5, max_grad_norm=5.0, max_seq_len=40, max_vals=100, max_word_v_size=30000, min_lr=1e-05, n_epochs=10, n_layers_enc=1, n_layers_highway=0, no_tqdm=0, optimizer='sgd', pair_enc='simple', patience=5, preproc_file='preproc.pkl', random_seed=19, run_dir='RUN_DIR', scaling_method='none', scheduler_threshold=0.0, shared_optimizer=1, should_train=1, task_ordering='random', task_patience=0, train_tasks='sst', train_words=0, trainer_type='sampling', val_interval=10, weight_decay=0.0, weighting_method='uniform', word_embs_file='../glove/glove.6B/glove.6B.50d.txt')\n",
            "12/03 10:36:06 PM: Using GPU 0\n",
            "12/03 10:36:06 PM: Using random seed 19\n",
            "12/03 10:36:06 PM: Loading tasks...\n",
            "12/03 10:36:18 PM: \tFinished loading SST data.\n",
            "12/03 10:36:18 PM: \tFinished loading tasks: sst.\n",
            "12/03 10:36:18 PM: Loading token dictionary from EXP_DIR/vocab.\n",
            "Traceback (most recent call last):\n",
            "  File \"main.py\", line 280, in <module>\n",
            "    sys.exit(main(sys.argv[1:]))\n",
            "  File \"main.py\", line 136, in main\n",
            "    train_tasks, eval_tasks, vocab, word_embs = build_tasks(args)\n",
            "  File \"/content/CS273A/src/preprocess.py\", line 72, in build_tasks\n",
            "    train, val, test = preproc[task.name]\n",
            "KeyError: 'sst'\n",
            "\n",
            "If you suspect this is an IPython bug, please report it at:\n",
            "    https://github.com/ipython/ipython/issues\n",
            "or send an email to the mailing list at ipython-dev@python.org\n",
            "\n",
            "You can print a more detailed traceback right now with \"%tb\", or use \"%debug\"\n",
            "to interactively debug it.\n",
            "\n",
            "Extra-detailed tracebacks for bug-reporting purposes can be enabled via:\n",
            "    %config Application.verbose_crash=True\n",
            "\n"
          ],
          "name": "stdout"
        }
      ]
    },
    {
      "metadata": {
        "id": "abUFkZ71-G9_",
        "colab_type": "code",
        "colab": {
          "resources": {
            "http://localhost:8080/nbextensions/google.colab/files.js": {
              "data": "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",
              "ok": true,
              "headers": [
                [
                  "content-type",
                  "application/javascript"
                ]
              ],
              "status": 200,
              "status_text": ""
            }
          },
          "base_uri": "https://localhost:8080/",
          "height": 106
        },
        "outputId": "df1b1c7d-6d73-4a82-db4f-d89eac9a8f52"
      },
      "cell_type": "code",
      "source": [
        "from google.colab import files\n",
        "files.upload()"
      ],
      "execution_count": 8,
      "outputs": [
        {
          "output_type": "display_data",
          "data": {
            "text/html": [
              "\n",
              "     <input type=\"file\" id=\"files-7a9841c5-28bb-4222-b983-0d0ace8835e8\" name=\"files[]\" multiple disabled />\n",
              "     <output id=\"result-7a9841c5-28bb-4222-b983-0d0ace8835e8\">\n",
              "      Upload widget is only available when the cell has been executed in the\n",
              "      current browser session. Please rerun this cell to enable.\n",
              "      </output>\n",
              "      <script src=\"/nbextensions/google.colab/files.js\"></script> "
            ],
            "text/plain": [
              "<IPython.core.display.HTML object>"
            ]
          },
          "metadata": {
            "tags": []
          }
        },
        {
          "output_type": "stream",
          "text": [
            "Saving run_stuff_onColab.sh to run_stuff_onColab.sh\n"
          ],
          "name": "stdout"
        },
        {
          "output_type": "execute_result",
          "data": {
            "text/plain": [
              "{'run_stuff_onColab.sh': b'#!/bin/bash\\n# \\n#SBATCH -t 2-00:00\\n#SBATCH --gres=gpu:1080ti:1\\n#SBATCH --mail-type=end\\n#SBATCH --mail-user=aw3272@nyu.edu\\n\\n# SBATCH -t 4-00:00\\n# SBATCH --gres=gpu:p40:1\\n\\nSCRATCH_PREFIX=\\'../glue_data/\\'\\n#SCRATCH_PREFIX=\\'/beegfs/aw3272/\\'\\nPROJECT_NAME=\\'mtl-sent-rep\\'\\nEXP_NAME=\"debug\"\\nRUN_NAME=\"debug\"\\nGPUID=0\\nSEED=19\\nno_tqdm=0\\n\\nSHOULD_TRAIN=1\\nLOAD_MODEL=0\\nLOAD_TASKS=1\\nLOAD_PREPROC=1\\nload_epoch=-1\\n\\ntrain_tasks=\\'sst\\'\\neval_tasks=\\'none\\'\\nCLASSIFIER=mlp\\nd_hid_cls=512\\nmax_seq_len=40\\nVOCAB_SIZE=30000\\n#WORD_EMBS_FILE=\"${SCRATCH_PREFIX}/raw_data/GloVe/glove.840B.300d.txt\"\\nWORD_EMBS_FILE=\"../glove/glove.6B/glove.6B.50d.txt\"\\n\\nd_word=50\\nd_hid=512\\nglove=1\\nELMO=0\\ndeep_elmo=0\\nelmo_no_glove=0\\nCOVE=0\\n\\nPAIR_ENC=\"simple\"\\nN_LAYERS_ENC=1\\nn_layers_highway=0\\n\\nOPTIMIZER=\"sgd\"\\nLR=.1\\nmin_lr=1e-5\\ndropout=.2\\nLR_DECAY=.5\\npatience=5\\ntask_patience=0\\ntrain_words=0\\nWEIGHT_DECAY=0.0\\nSCHED_THRESH=0.0\\nBATCH_SIZE=64\\nBPP_METHOD=\"percent_tr\"\\nBPP_BASE=10\\nVAL_INTERVAL=10\\nMAX_VALS=100\\nTASK_ORDERING=\"random\"\\nweighting_method=\"uniform\"\\nscaling_method=\\'none\\'\\n\\nwhile getopts \\'ikmn:r:S:s:tvh:l:L:o:T:E:O:b:H:p:edcgP:qB:V:M:D:C:X:GI:N:y:K:W:\\' flag; do\\n    case \"${flag}\" in\\n        P) SCRATCH_PREFIX=\"${OPTARG}\" ;;\\n        n) EXP_NAME=\"${OPTARG}\" ;;\\n        r) RUN_NAME=\"${OPTARG}\" ;;\\n        S) SEED=\"${OPTARG}\" ;;\\n        q) no_tqdm=1 ;;\\n        t) SHOULD_TRAIN=0 ;;\\n        k) LOAD_TASKS=0 ;;\\n        m) LOAD_MODEL=1 ;;\\n        i) LOAD_PREPROC=0 ;;\\n        M) BPP_METHOD=\"${OPTARG}\" ;; \\n        B) BPP_BASE=\"${OPTARG}\" ;;\\n        V) VAL_INTERVAL=\"${OPTARG}\" ;;\\n        X) MAX_VALS=\"${OPTARG}\" ;;\\n        T) train_tasks=\"${OPTARG}\" ;;\\n        #E) eval_tasks=\"${OPTARG}\" ;;\\n        O) TASK_ORDERING=\"${OPTARG}\" ;;\\n        H) n_layers_highway=\"${OPTARG}\" ;;\\n        l) LR=\"${OPTARG}\" ;;\\n        #s) min_lr=\"${OPTARG}\" ;;\\n        L) N_LAYERS_ENC=\"${OPTARG}\" ;;\\n        o) OPTIMIZER=\"${OPTARG}\" ;;\\n        h) d_hid=\"${OPTARG}\" ;;\\n        b) BATCH_SIZE=\"${OPTARG}\" ;;\\n        E) PAIR_ENC=\"${OPTARG}\" ;;\\n        G) glove=0 ;;\\n        e) ELMO=1 ;;\\n        d) deep_elmo=1 ;;\\n        g) elmo_no_glove=1 ;;\\n        c) COVE=1 ;;\\n        D) dropout=\"${OPTARG}\" ;;\\n        C) CLASSIFIER=\"${OPTARG}\" ;;\\n        I) GPUID=\"${OPTARG}\" ;;\\n        N) load_epoch=\"${OPTARG}\" ;;\\n        y) LR_DECAY=\"${OPTARG}\" ;;\\n        K) task_patience=\"${OPTARG}\" ;;\\n        p) patience=\"${OPTARG}\" ;;\\n        W) weighting_method=\"${OPTARG}\" ;;\\n        s) scaling_method=\"${OPTARG}\" ;;\\n    esac\\ndone\\n\\n#LOG_PATH=\"${SCRATCH_PREFIX}/ckpts/${PROJECT_NAME}/${EXP_NAME}/${RUN_NAME}/log.log\"\\nLOG_PATH=\"log.log\"\\n#EXP_DIR=\"${SCRATCH_PREFIX}/ckpts/${PROJECT_NAME}/${EXP_NAME}/\"\\nEXP_DIR=\"EXP_DIR\"\\n#RUN_DIR=\"${SCRATCH_PREFIX}/ckpts/${PROJECT_NAME}/${EXP_NAME}/${RUN_NAME}\"\\nRUN_DIR=\"RUN_DIR\"\\nmkdir -p ${EXP_DIR}\\nmkdir -p ${RUN_DIR}\\n\\nALLEN_CMD=\"python main.py --cuda ${GPUID} --random_seed ${SEED} --no_tqdm ${no_tqdm} --log_file ${LOG_PATH} --exp_dir ${EXP_DIR} --run_dir ${RUN_DIR} --train_tasks ${train_tasks} --eval_tasks ${eval_tasks} --classifier ${CLASSIFIER} --classifier_hid_dim ${d_hid_cls} --max_seq_len ${max_seq_len} --max_word_v_size ${VOCAB_SIZE} --word_embs_file ${WORD_EMBS_FILE} --train_words ${train_words} --glove ${glove} --elmo ${ELMO} --deep_elmo ${deep_elmo} --elmo_no_glove ${elmo_no_glove} --cove ${COVE} --d_word ${d_word} --d_hid ${d_hid} --n_layers_enc ${N_LAYERS_ENC} --pair_enc ${PAIR_ENC} --n_layers_highway ${n_layers_highway} --batch_size ${BATCH_SIZE} --bpp_method ${BPP_METHOD} --bpp_base ${BPP_BASE} --optimizer ${OPTIMIZER} --lr ${LR} --min_lr ${min_lr} --lr_decay_factor ${LR_DECAY} --task_patience ${task_patience} --patience ${patience} --weight_decay ${WEIGHT_DECAY} --dropout ${dropout} --val_interval ${VAL_INTERVAL} --max_vals ${MAX_VALS} --task_ordering ${TASK_ORDERING} --weighting_method ${weighting_method} --scaling_method ${scaling_method} --scheduler_threshold ${SCHED_THRESH} --load_model ${LOAD_MODEL} --load_tasks ${LOAD_TASKS} --load_preproc ${LOAD_PREPROC} --should_train ${SHOULD_TRAIN} --load_epoch ${load_epoch}\"\\neval ${ALLEN_CMD}\\n'}"
            ]
          },
          "metadata": {
            "tags": []
          },
          "execution_count": 8
        }
      ]
    }
  ]
}